{
 "cells": [
  {
   "cell_type": "markdown",
   "id": "bed2a4a2",
   "metadata": {},
   "source": [
    "# Discussion {#sec-disc}\n",
    "\n",
    "## Modeling of drifter trajectories"
   ]
  },
  {
   "cell_type": "markdown",
   "id": "be28e570",
   "metadata": {},
   "source": [
    "### Maxey-Riley framework\n",
    "\n",
    "Surprisingly, the Maxey-Riley framework has been used only once to describe the dynamics of floating particles in the ocean [@olascoaga2020observation]. Yet it is the theory derived from first principles that accounts for the forces excerted on a floating particle at the interface between a fluid and air. Unlike most theories that describe particle motion in the ocean, this model does not have fitting parameters. One typical fitting paramete in studies on search and rescue [@breivik2008operational] is the leeway coefficient, that accounts for windage effects. In the framework of @eq-MR, the parameters $\\alpha$, $R$ and $\\tau$ are calculated based on the particle geometry and the properties of the objects and the fields (density, viscosity). \n",
    "\n",
    "Passing from the full Maxey-Riley equations (@eq-MR-explicit) to the slow manifold approximation (@eq-MR) facilitates numerical resolution since we passed from a second order differential equation (that is, two ordinary differential equaitons with two initial conditions) to a first order differential equation. We only need the initial position of the drifter but not its initial velocity. Taking a look at @fig-MR-mediterranean we could think that the slow manifold approximation may have been an overstatement. However, the only assumption there is that the drifter size is smaller than the caracteristic lengths present in the system, which remains true. Let us review which assumptions we made may modify significantly the behavior of the numerical simulations. \n",
    "\n",
    "First, we can wonder if the parameter $\\alpha$, equivalent to a leeway coefficient, is well determined, since the wind seems to have an important effect on the obtained trajectories. We obtained a value of $\\alpha = 1 \\%$, slightly smaller than the typical $3 \\%$ commonly used as a leeway coeficient. We thus conclude that the mismatch between the trajectories must come from somewhere else.\n",
    "\n",
    "MELODI drifters are not spheres, but are not perfect cylinders either. The correction $\\kappa$ (@eq-kappa) that accounts for the deviation from a sphere is not exactly well calculated because it is not straightforward to determine the radii of the equivalent sphere taking into account the metallic anchor included in the MELODI drifters. This discrepancy could be a source of error, because we are not only obtaining $\\kappa$ from these values but also the density of the drifters. When more data from other drifters becomes available, we will compare our results to drifters with different geometries.\n",
    "\n",
    "Another possible source of error is the spatial and temporal resolution of satellite data. To accurately compute a numerical resolution of @eq-MR, we need a short temporal step (for example, one minute). But the sattelite data is not available in such short periods and it is thus interpolated. A similar mechanism occurs with the spatial data. Satellites do not retrieve information on the small scales that affect the drifter movement. The Maxey-Riley framework assumes that we know the fields in the scales we need them but this is not the case. We think this is the biggest source of discrepancy between the real trajectories and the simulated ones. Nevertheless, the Maxey-Riley set provides a remarkably accurate description using only the initial position, and we are still working on exploiting its potential to understand the dynamics of floating objects in the ocean."
   ]
  },
  {
   "cell_type": "markdown",
   "id": "e531bf99",
   "metadata": {},
   "source": [
    "## Pair dispersion\n",
    "\n",
    "::: {#fig-seashot-pair-disp}\n",
    "\n",
    "![](images/seashots_pair_dispersion.png){}\n",
    "\n",
    "Seashots taken from OVL OceanDataLab, showing the trajectory of the Statsraad Lehmkhul, the cyclogesotrophic current (from Vardyn) and the position of the SPOT drifters over two weeks, starting the day of the deployment for (a) the first deployment and (b) the third one.\n",
    ":::\n",
    "\n",
    "From the data from the first deployment, we could distinguish two different regimes (see @fig-pair-dispersion). However, the separation between them was not clear on the pair diffusivity (@fig-pair-diffusivity). The change of regime arrives at aptoximately two weeks after the deployment, when the distance between pairs is around 70 km. @fig-seashot-pair-disp shows the position of the ship, the drifters and the cyclogesotrophic current from the release until this moment. In the panel (a) we can see the seashot corresponding to the first deployment. We can observe that the distance $D$ is of the order of the eddies, but not yet the biggest eddies present in the flow. It makes sense that, in this case, the dynamics is still local but changes from a regime where they have been in the same eddy to an intermediate one. At the moment of the writing, five months after the release, he system did not reach yet the diffusive regime.\n",
    "\n",
    "Regarding the third deployment, we can interpret the results shown in the previous section by looking at @fig-seashot-pair-disp. Two weeks after the deployment, the drifters move still all together and the distance they travelled is much smaller than the eddies present in the flow. It is expected, in this case, that the system remains in a local regime for longer. Our observations are in agreement with the previous results from the literature [@van2015pairwise] [@rohrs2023surface], including the specific two week interval before the transition between regimes in the North Sea [@meyerjurgens2020relative]."
   ]
  },
  {
   "cell_type": "code",
   "execution_count": null,
   "id": "edd8fa6c",
   "metadata": {},
   "outputs": [],
   "source": []
  }
 ],
 "metadata": {
  "language_info": {
   "name": "python"
  }
 },
 "nbformat": 4,
 "nbformat_minor": 5
}
